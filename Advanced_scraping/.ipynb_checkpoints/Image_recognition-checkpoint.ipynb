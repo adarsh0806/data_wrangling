{
 "cells": [
  {
   "cell_type": "code",
   "execution_count": 7,
   "metadata": {
    "collapsed": false
   },
   "outputs": [
    {
     "name": "stdout",
     "output_type": "stream",
     "text": [
      "/Users/adarshnair/Desktop/Data_Wrangling/Advanced_scraping\n"
     ]
    }
   ],
   "source": [
    "import os\n",
    "cwd = os.getcwd()\n",
    "print cwd"
   ]
  },
  {
   "cell_type": "markdown",
   "metadata": {},
   "source": [
    "## Using Python Imaging library"
   ]
  },
  {
   "cell_type": "code",
   "execution_count": 9,
   "metadata": {
    "collapsed": false
   },
   "outputs": [],
   "source": [
    "# Using Python Imaging Library\n",
    "from PIL import Image, ImageFilter\n",
    "\n",
    "# Load image\n",
    "kitten = Image.open(\"/Users/adarshnair/Desktop/Data_Wrangling/Advanced_scraping/kitten.png\")\n",
    "# Add blur to the image\n",
    "blurryKitten = kitten.filter(ImageFilter.GaussianBlur)\n",
    "# Save blurry image\n",
    "blurryKitten.save(\"kitten_blurred.jpg\")\n",
    "blurryKitten.show()"
   ]
  },
  {
   "cell_type": "code",
   "execution_count": null,
   "metadata": {
    "collapsed": true
   },
   "outputs": [],
   "source": []
  }
 ],
 "metadata": {
  "kernelspec": {
   "display_name": "Python 2",
   "language": "python",
   "name": "python2"
  },
  "language_info": {
   "codemirror_mode": {
    "name": "ipython",
    "version": 2
   },
   "file_extension": ".py",
   "mimetype": "text/x-python",
   "name": "python",
   "nbconvert_exporter": "python",
   "pygments_lexer": "ipython2",
   "version": "2.7.12"
  }
 },
 "nbformat": 4,
 "nbformat_minor": 0
}
