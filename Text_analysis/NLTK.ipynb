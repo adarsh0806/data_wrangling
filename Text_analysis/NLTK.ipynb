{
 "cells": [
  {
   "cell_type": "code",
   "execution_count": null,
   "metadata": {
    "collapsed": false
   },
   "outputs": [],
   "source": [
    "# Install and download NLTK\n",
    "import nltk\n",
    "nltk.download()\n",
    "'''\n",
    "print nltk.__version__\n",
    "3.2\n",
    "nltk download data directory -> /Users/adarshnair/nltk_data\n",
    "\n",
    "For error on panlex_lite.zip do the following:\n",
    "\n",
    "$ rm /Users/adarshnair/nltk_data/corpora/panlex_lite.zip\n",
    "$ rm -r /Users/adarshnair/nltk_data/corpora/panlex_lite\n",
    "$ python\n",
    "\n",
    ">>> import nltk\n",
    ">>> dler = nltk.downloader.Downloader()\n",
    ">>> dler._update_index()\n",
    ">>> dler._status_cache['panlex_lite'] = 'installed' # Trick the index to treat panlex_lite as it's already installed.\n",
    ">>> dler.download('all')\n",
    "'''"
   ]
  },
  {
   "cell_type": "code",
   "execution_count": 3,
   "metadata": {
    "collapsed": false
   },
   "outputs": [
    {
     "name": "stdout",
     "output_type": "stream",
     "text": [
      "<Text: Here is some not very interesting text...>\n"
     ]
    }
   ],
   "source": [
    "# Test code to check if NLTK is up and if the data is downloaded.\n",
    "from nltk import word_tokenize\n",
    "from nltk import Text\n",
    "\n",
    "tokens = word_tokenize(\"Here is some not very interesting text\")\n",
    "text = Text(tokens)\n",
    "print text"
   ]
  },
  {
   "cell_type": "markdown",
   "metadata": {},
   "source": [
    "## Use the NLTK n-gram library ##"
   ]
  },
  {
   "cell_type": "code",
   "execution_count": 4,
   "metadata": {
    "collapsed": false
   },
   "outputs": [
    {
     "name": "stdout",
     "output_type": "stream",
     "text": [
      "*** Introductory Examples for the NLTK Book ***\n",
      "Loading text1, ..., text9 and sent1, ..., sent9\n",
      "Type the name of the text or sentence to view it.\n",
      "Type: 'texts()' or 'sents()' to list the materials.\n",
      "text1: Moby Dick by Herman Melville 1851\n",
      "text2: Sense and Sensibility by Jane Austen 1811\n",
      "text3: The Book of Genesis\n",
      "text4: Inaugural Address Corpus\n",
      "text5: Chat Corpus\n",
      "text6: Monty Python and the Holy Grail\n",
      "text7: Wall Street Journal\n",
      "text8: Personals Corpus\n",
      "text9: The Man Who Was Thursday by G . K . Chesterton 1908\n",
      "(u'coconut', u'and', u'you', u\"'\")\n",
      "(u'coconut', u\"'\", u's', u'tropical')\n",
      "(u'coconut', u'?', u'ARTHUR', u':')\n",
      "(u'coconut', u'.', u'ARTHUR', u':')\n",
      "(u'coconut', u'back', u'anyway', u'...')\n",
      "(u'coconut', u'on', u'a', u'line')\n"
     ]
    }
   ],
   "source": [
    "# Search from a book list and print all 4-grams that begin with the word 'coconut'\n",
    "\n",
    "# This imports 9 books\n",
    "from nltk.book import *\n",
    "from nltk import ngrams\n",
    "\n",
    "# Break into 4-grams\n",
    "fourgrams = ngrams(text6, 4)\n",
    "for fourgram in fourgrams: \n",
    "    if fourgram[0] == \"coconut\": \n",
    "        print(fourgram)"
   ]
  },
  {
   "cell_type": "markdown",
   "metadata": {},
   "source": [
    "## Search for text in an article using NLTK. ##\n",
    "\n",
    "We can use Penn's Treebank's Tags to distinguish between a word being used in one way versus another. In this example we will use `pos_tag` to find sentences that have a word which is in a particular form(noun, verb etc)"
   ]
  },
  {
   "cell_type": "code",
   "execution_count": 14,
   "metadata": {
    "collapsed": false
   },
   "outputs": [
    {
     "name": "stdout",
     "output_type": "stream",
     "text": [
      "I want to be greatest Data Scientist that ever lived.\n"
     ]
    }
   ],
   "source": [
    "#\n",
    "from nltk import word_tokenize, sent_tokenize, pos_tag\n",
    "\n",
    "# Input sentences\n",
    "sentences = sent_tokenize(\"I want to be greatest Data Scientist that ever lived. Machine Learning is awesome.\")\n",
    "\n",
    "'''\n",
    "NN - Noun, singular or mass\n",
    "NNS - Noun plural\n",
    "NNP - Proper noun, singular\n",
    "NNPS - Proper noun, plural\n",
    "'''\n",
    "nouns = ['NN', 'NNS', 'NNP', 'NNPS']\n",
    "\n",
    "\n",
    "# Print sentences that have the word 'Scientist' or 'scientist' in the noun form and not the verb form.\n",
    "for sentence in sentences:     \n",
    "    if \"scientist\" in sentence.lower():        \n",
    "        taggedWords = pos_tag(word_tokenize(sentence))  \n",
    "        # Go through each word\n",
    "        for word in taggedWords: \n",
    "            if word[0].lower() == \"scientist\" and word[1] in nouns:\n",
    "                print(sentence)\n"
   ]
  },
  {
   "cell_type": "code",
   "execution_count": null,
   "metadata": {
    "collapsed": true
   },
   "outputs": [],
   "source": []
  }
 ],
 "metadata": {
  "kernelspec": {
   "display_name": "Python 2",
   "language": "python",
   "name": "python2"
  },
  "language_info": {
   "codemirror_mode": {
    "name": "ipython",
    "version": 2
   },
   "file_extension": ".py",
   "mimetype": "text/x-python",
   "name": "python",
   "nbconvert_exporter": "python",
   "pygments_lexer": "ipython2",
   "version": "2.7.12"
  }
 },
 "nbformat": 4,
 "nbformat_minor": 0
}
